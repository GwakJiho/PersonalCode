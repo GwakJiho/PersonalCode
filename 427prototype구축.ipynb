{
 "cells": [
  {
   "cell_type": "code",
   "execution_count": 111,
   "id": "37dba79a",
   "metadata": {},
   "outputs": [],
   "source": [
    "step = Mysql()"
   ]
  },
  {
   "cell_type": "markdown",
   "id": "75abebad",
   "metadata": {},
   "source": [
    "### 사용자 이메일과 사용자 이름 ID 매핑"
   ]
  },
  {
   "cell_type": "code",
   "execution_count": 78,
   "id": "23c523aa",
   "metadata": {},
   "outputs": [],
   "source": [
    "sql = \"\"\"select inviter_id ,email, profile_nickname from tbl_friend;\"\"\"\n",
    "df = step.SQL(sql)"
   ]
  },
  {
   "cell_type": "code",
   "execution_count": 80,
   "id": "eb4aefad",
   "metadata": {},
   "outputs": [],
   "source": [
    "idx2name = {k[0]: k[2] for k in df.iloc}\n",
    "name2idx = {value: key for key,value in idx2name.items()}\n",
    "mail2name = {k[1]: k[2] for k in df.iloc}\n",
    "name2mail = {value: key for key,value in mail2name.items()}"
   ]
  },
  {
   "cell_type": "markdown",
   "id": "5cfc2aef",
   "metadata": {},
   "source": [
    "### 1.\n",
    "### 보낸 상대평점 평균: 특정 기간 동안( 특정인에게 보낸 나의 평점 평균 / 내가 보낸 모든 평점 평균)"
   ]
  },
  {
   "cell_type": "code",
   "execution_count": 94,
   "id": "a4fc0a51",
   "metadata": {},
   "outputs": [
    {
     "name": "stdout",
     "output_type": "stream",
     "text": [
      "     0            1       2\n",
      "0  허영호  정유철 교수 금오공대  4.2892\n",
      "     0       1\n",
      "0  허영호  4.2201\n"
     ]
    }
   ],
   "source": [
    "sql = f'''select F1.profile_nickname AS host_name, F2.profile_nickname AS guest_name, AVG(FE.vote) as avg_vote from tbl_feedback_history FE\n",
    "JOIN tbl_friend F1 ON FE.host_id = F1.inviter_id\n",
    "JOIN tbl_friend F2 ON FE.guest_id = F2.inviter_id\n",
    "WHERE F1.profile_nickname = \"허영호\" AND F2.profile_nickname = \"정유철 교수 금오공대\";\n",
    "'''\n",
    "print(step.SQL(sql))\n",
    "\n",
    "#내가보낸 모든 평점 평균\n",
    "sql = f'''SELECT i.name, AVG(f.vote) as avg_vote\n",
    "FROM tbl_inviter i\n",
    "INNER JOIN tbl_feedback_history f ON i.inviter_id = f.host_id COLLATE utf8mb4_unicode_ci\n",
    "WHERE i.name = \"허영호\"  \n",
    "GROUP BY i.name;'''\n",
    "\n",
    "print(step.SQL(sql))"
   ]
  },
  {
   "cell_type": "markdown",
   "id": "1d140e13",
   "metadata": {},
   "source": [
    "### 2.\n",
    "### 받은 상대평점 평균: 특정 기간 동안 (특정인으로 부터 받은 나의 평점 평균 / 특정인이 보낸 모든 평점 평균)"
   ]
  },
  {
   "cell_type": "code",
   "execution_count": 99,
   "id": "e4612397",
   "metadata": {},
   "outputs": [
    {
     "name": "stdout",
     "output_type": "stream",
     "text": [
      "             0    1       2\n",
      "0  정유철 교수 금오공대  허영호  3.0964\n",
      "             0       1\n",
      "0  정유철 교수 금오공대  3.9890\n"
     ]
    }
   ],
   "source": [
    "sql = f'''select F1.profile_nickname AS host_name, F2.profile_nickname AS guest_name, AVG(FE.vote) as avg_vote from tbl_feedback_history FE\n",
    "JOIN tbl_friend F1 ON FE.host_id = F1.inviter_id\n",
    "JOIN tbl_friend F2 ON FE.guest_id = F2.inviter_id\n",
    "WHERE F1.profile_nickname = \"정유철 교수 금오공대\" AND F2.profile_nickname = \"허영호\";\n",
    "'''\n",
    "print(step.SQL(sql))\n",
    "\n",
    "#내가보낸 모든 평점 평균\n",
    "sql = f'''SELECT F.profile_nickname, AVG(FE.vote) as avg_vote\n",
    "FROM tbl_friend F\n",
    "INNER JOIN tbl_feedback_history FE ON F.inviter_id = FE.host_id COLLATE utf8mb4_unicode_ci\n",
    "WHERE F.profile_nickname = \"정유철 교수 금오공대\" ; \n",
    "'''\n",
    "\n",
    "print(step.SQL(sql))"
   ]
  },
  {
   "cell_type": "markdown",
   "id": "64b5800b",
   "metadata": {},
   "source": [
    "### 3. \n",
    "### 보낸 업무상대평점 평균: (특정업무에 대해 보낸 나의 평점 평균/ 내가 보낸 모든 평점 평균)"
   ]
  },
  {
   "cell_type": "code",
   "execution_count": 109,
   "id": "51747fd8",
   "metadata": {},
   "outputs": [
    {
     "name": "stdout",
     "output_type": "stream",
     "text": [
      "(('허영호', '742717624', Decimal('5.0000')),) \n",
      " (('허영호', Decimal('4.7126')),)\n"
     ]
    }
   ],
   "source": [
    "#특정 업무에 대해 보낸 나의 평점 평균\n",
    "sql = '''\n",
    "select F.profile_nickname , S.schedule_id , AVG(FE.vote) as avg_vote from tbl_schedule_todo S\n",
    "join tbl_feedback_history FE on S.schedule_id = FE.schedule_id COLLATE utf8mb4_unicode_ci\n",
    "join tbl_friend F on F.inviter_id = FE.host_id COLLATE utf8mb4_unicode_ci\n",
    "where F.profile_nickname =\"허영호\" and S.schedule_id = 742717624;\n",
    "'''\n",
    "a = step.SQL(sql)\n",
    "\n",
    "#내가 보낸 모든 평점 평균\n",
    "sql = f'''SELECT F.profile_nickname, AVG(FE.vote) as avg_vote\n",
    "FROM tbl_friend F\n",
    "INNER JOIN tbl_feedback_history FE ON F.inviter_id = FE.host_id COLLATE utf8mb4_unicode_ci\n",
    "WHERE F.profile_nickname = \"허영호\" ; \n",
    "'''\n",
    "b = step.SQL(sql)\n",
    "\n",
    "print(f'{a} \\n {b}')"
   ]
  },
  {
   "cell_type": "markdown",
   "id": "2c6b9d71",
   "metadata": {},
   "source": [
    "### 4.\n",
    "### 보낸 일정완료율: (내가 완료한 일정 수/ 내가 생성한 일정 수)"
   ]
  },
  {
   "cell_type": "code",
   "execution_count": 112,
   "id": "6e7a3b18",
   "metadata": {},
   "outputs": [
    {
     "name": "stdout",
     "output_type": "stream",
     "text": [
      "0.327319587628866\n"
     ]
    }
   ],
   "source": [
    "sql = '''\n",
    "select DISTINCT F.profile_nickname ,S.schedule_id   from tbl_schedule_todo S\n",
    "join tbl_friend F on F.inviter_id = S.inviter_id COLLATE utf8mb4_unicode_ci\n",
    "where F.profile_nickname = \"허영호\";\n",
    "'''\n",
    "a = len(step.SQL(sql))\n",
    "\n",
    "#완료 판단 기준이 없어서 complete_time이 NULL이 아닐 경우\n",
    "sql = '''  \n",
    "select DISTINCT  F.profile_nickname ,S.schedule_id   from tbl_schedule_todo S\n",
    "join tbl_friend F on F.inviter_id = S.inviter_id COLLATE utf8mb4_unicode_ci\n",
    "where F.profile_nickname = \"허영호\" and S.complete_time is not NULL ;\n",
    "'''\n",
    "b = len(step.SQL(sql))\n",
    "\n",
    "print(b/a)"
   ]
  },
  {
   "cell_type": "markdown",
   "id": "e9fbc90a",
   "metadata": {},
   "source": [
    "### 5.\n",
    "### 보낸 일정참여율: (일정 별 일정에 참여한 참여자 총 수의 합 / 일정 별 초대한 참여자 총 수의 합)"
   ]
  },
  {
   "cell_type": "code",
   "execution_count": 145,
   "id": "7620c20e",
   "metadata": {},
   "outputs": [],
   "source": [
    "sql = '''\n",
    "select S.title,  S.invitees  from tbl_schedule_todo S\n",
    "join tbl_friend F on F.inviter_id = S.inviter_id \n",
    "where F.profile_nickname = \"허영호\" and S.amount_of_invitees != 0;\n",
    "'''\n",
    "a = step.SQL(sql)\n",
    "\n",
    "sql = '''\n",
    "select SUM(S.amount_of_invitees)  from tbl_schedule_todo S\n",
    "join tbl_friend F on F.inviter_id = S.inviter_id \n",
    "where F.profile_nickname = \"허영호\" and S.amount_of_invitees != 0;\n",
    "'''\n",
    "b = len(step.SQL(sql))\n"
   ]
  },
  {
   "cell_type": "code",
   "execution_count": 148,
   "id": "decc2332",
   "metadata": {},
   "outputs": [
    {
     "name": "stdout",
     "output_type": "stream",
     "text": [
      "0.9087947882736156\n"
     ]
    }
   ],
   "source": [
    "import json\n",
    "count, total = 0, 0\n",
    "for line in a.iloc:\n",
    "    json_list = json.loads(line[1])\n",
    "    if len(json_list) > 0:\n",
    "        for k in json_list:\n",
    "            total += 1\n",
    "            count += k[\"join\"]\n",
    "    \n",
    "print(count / total)"
   ]
  },
  {
   "cell_type": "markdown",
   "id": "4de32b66",
   "metadata": {},
   "source": [
    "### 6.\n",
    "### 보낸 피드백율: 특정 기간동안 (내가 보낸 피드백 수/ 내가 요청받은 피드백 수)"
   ]
  },
  {
   "cell_type": "code",
   "execution_count": 160,
   "id": "03021a1c",
   "metadata": {},
   "outputs": [
    {
     "name": "stdout",
     "output_type": "stream",
     "text": [
      "0.908701610140459\n"
     ]
    }
   ],
   "source": [
    "sql = '''\n",
    "select count(*) from tbl_feedback_history FE \n",
    "join tbl_friend F on F.inviter_id = FE.guest_id \n",
    "where F.profile_nickname = \"허영호\" and vote!= 0;\n",
    "'''\n",
    "a = step.SQL(sql)\n",
    "\n",
    "sql = '''\n",
    "select count(*) from tbl_feedback_history FE \n",
    "join tbl_friend F on F.inviter_id = FE.guest_id \n",
    "where F.profile_nickname = \"허영호\";\n",
    "'''\n",
    "b = step.SQL(sql)\n",
    "\n",
    "print(a.iloc[0][0]/ b.iloc[0][0])"
   ]
  },
  {
   "cell_type": "markdown",
   "id": "9c76bf21",
   "metadata": {},
   "source": [
    "### 7.\n",
    "### 받은 일정참여율: 특정 기간동안 (내가 참여한 일정 수/ 내가 초대받은 일정 수)\n",
    "### "
   ]
  },
  {
   "cell_type": "code",
   "execution_count": 169,
   "id": "715bb772",
   "metadata": {},
   "outputs": [],
   "source": [
    "sql = '''\n",
    "select S.title,  S.invitees  from tbl_schedule_todo S\n",
    "join tbl_friend F on F.inviter_id = S.inviter_id \n",
    "where S.invitees is not NULL;\n",
    "'''\n",
    "a = step.SQL(sql)"
   ]
  },
  {
   "cell_type": "code",
   "execution_count": 170,
   "id": "980c74d8",
   "metadata": {},
   "outputs": [
    {
     "name": "stdout",
     "output_type": "stream",
     "text": [
      "0.4013452914798206\n"
     ]
    }
   ],
   "source": [
    "import json\n",
    "count, total = 0, 0\n",
    "for line in a.iloc:\n",
    "    json_list = json.loads(line[1])\n",
    "    if len(json_list) > 0:\n",
    "        for k in json_list:\n",
    "            if k[\"name\"] == \"허영호\":\n",
    "                total += 1\n",
    "                if k[\"join\"] == 1:\n",
    "                    count += 1\n",
    "            \n",
    "    \n",
    "print(count / total)"
   ]
  },
  {
   "cell_type": "markdown",
   "id": "5a49499e",
   "metadata": {},
   "source": [
    "### 8.\n",
    "### 받은 피드백율: 특정 기간 동안 (내가 요청 받은 피드백 수/ 내가 참여한 일정 수)\n",
    "####  현재 과정으로는 1"
   ]
  }
 ],
 "metadata": {
  "kernelspec": {
   "display_name": "wiztim",
   "language": "python",
   "name": "wiztim"
  },
  "language_info": {
   "codemirror_mode": {
    "name": "ipython",
    "version": 3
   },
   "file_extension": ".py",
   "mimetype": "text/x-python",
   "name": "python",
   "nbconvert_exporter": "python",
   "pygments_lexer": "ipython3",
   "version": "3.7.15"
  }
 },
 "nbformat": 4,
 "nbformat_minor": 5
}
